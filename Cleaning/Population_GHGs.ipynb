{
 "cells": [
  {
   "cell_type": "code",
   "execution_count": 1,
   "metadata": {},
   "outputs": [],
   "source": [
    "# Dependencies\n",
    "import pandas as pd"
   ]
  },
  {
   "cell_type": "code",
   "execution_count": 2,
   "metadata": {},
   "outputs": [],
   "source": [
    "# Australia\n",
    "aus_pop = pd.read_csv('Population/Australia.csv')\n",
    "aus_ghg = pd.read_csv('GHGs/Australia.csv')"
   ]
  },
  {
   "cell_type": "code",
   "execution_count": 3,
   "metadata": {},
   "outputs": [],
   "source": [
    "# DFs\n",
    "ausPop = pd.DataFrame(aus_pop)\n",
    "ausGHG = pd.DataFrame(aus_ghg)"
   ]
  },
  {
   "cell_type": "code",
   "execution_count": 4,
   "metadata": {},
   "outputs": [
    {
     "name": "stdout",
     "output_type": "stream",
     "text": [
      "(30, 11)\n"
     ]
    }
   ],
   "source": [
    "# Combine & Save\n",
    "ausDF = pd.concat([ausPop, ausGHG], axis=1)\n",
    "print(ausDF.shape)\n",
    "ausDF.to_csv('Resources/Australia.csv')"
   ]
  },
  {
   "cell_type": "code",
   "execution_count": 5,
   "metadata": {},
   "outputs": [],
   "source": [
    "# Canada\n",
    "can_pop = pd.read_csv('Population/Canada.csv')\n",
    "can_ghg = pd.read_csv('GHGs/Canada.csv')"
   ]
  },
  {
   "cell_type": "code",
   "execution_count": 6,
   "metadata": {},
   "outputs": [],
   "source": [
    "# DFs\n",
    "canPop = pd.DataFrame(can_pop)\n",
    "canGHG = pd.DataFrame(can_ghg)"
   ]
  },
  {
   "cell_type": "code",
   "execution_count": 7,
   "metadata": {},
   "outputs": [
    {
     "name": "stdout",
     "output_type": "stream",
     "text": [
      "(30, 11)\n"
     ]
    }
   ],
   "source": [
    "# Combine & Save\n",
    "canDF = pd.concat([canPop, canGHG], axis=1)\n",
    "print(canDF.shape)\n",
    "canDF.to_csv('Resources/Canada.csv')"
   ]
  },
  {
   "cell_type": "code",
   "execution_count": 8,
   "metadata": {},
   "outputs": [],
   "source": [
    "# Japan\n",
    "jpn_pop = pd.read_csv('Population/Japan.csv')\n",
    "jpn_ghg = pd.read_csv('GHGs/Japan.csv')"
   ]
  },
  {
   "cell_type": "code",
   "execution_count": 9,
   "metadata": {},
   "outputs": [],
   "source": [
    "# DFs\n",
    "jpnPop = pd.DataFrame(jpn_pop)\n",
    "jpnGHG = pd.DataFrame(jpn_ghg)"
   ]
  },
  {
   "cell_type": "code",
   "execution_count": 10,
   "metadata": {},
   "outputs": [
    {
     "name": "stdout",
     "output_type": "stream",
     "text": [
      "(30, 11)\n"
     ]
    }
   ],
   "source": [
    "# Combine & Save\n",
    "jpnDF = pd.concat([jpnPop, jpnGHG], axis=1)\n",
    "print(jpnDF.shape)\n",
    "jpnDF.to_csv('Resources/Japan.csv')"
   ]
  },
  {
   "cell_type": "code",
   "execution_count": 11,
   "metadata": {},
   "outputs": [],
   "source": [
    "# New Zealand\n",
    "nzl_pop = pd.read_csv('Population/New Zealand.csv')\n",
    "nzl_ghg = pd.read_csv('GHGs/New Zealand.csv')"
   ]
  },
  {
   "cell_type": "code",
   "execution_count": 12,
   "metadata": {},
   "outputs": [],
   "source": [
    "# DFs\n",
    "nzlPop = pd.DataFrame(nzl_pop)\n",
    "nzlGHG = pd.DataFrame(nzl_ghg)"
   ]
  },
  {
   "cell_type": "code",
   "execution_count": 13,
   "metadata": {},
   "outputs": [
    {
     "name": "stdout",
     "output_type": "stream",
     "text": [
      "(30, 11)\n"
     ]
    }
   ],
   "source": [
    "# Combine & Save\n",
    "nzlDF = pd.concat([nzlPop, nzlGHG], axis=1)\n",
    "print(nzlDF.shape)\n",
    "nzlDF.to_csv('Resources/New Zealand.csv')"
   ]
  },
  {
   "cell_type": "code",
   "execution_count": 14,
   "metadata": {},
   "outputs": [],
   "source": [
    "# Russia\n",
    "rus_pop = pd.read_csv('Population/Russia.csv')\n",
    "rus_ghg = pd.read_csv('GHGs/Russia.csv')"
   ]
  },
  {
   "cell_type": "code",
   "execution_count": 15,
   "metadata": {},
   "outputs": [],
   "source": [
    "# DFs\n",
    "rusPop = pd.DataFrame(rus_pop)\n",
    "rusGHG = pd.DataFrame(rus_ghg)"
   ]
  },
  {
   "cell_type": "code",
   "execution_count": 16,
   "metadata": {},
   "outputs": [
    {
     "name": "stdout",
     "output_type": "stream",
     "text": [
      "(30, 11)\n"
     ]
    }
   ],
   "source": [
    "# Combine & Save\n",
    "rusDF = pd.concat([rusPop, rusGHG], axis=1)\n",
    "print(rusDF.shape)\n",
    "rusDF.to_csv('Resources/Russia.csv')"
   ]
  },
  {
   "cell_type": "code",
   "execution_count": 17,
   "metadata": {},
   "outputs": [],
   "source": [
    "# Spain\n",
    "esp_pop = pd.read_csv('Population/Spain.csv')\n",
    "esp_ghg = pd.read_csv('GHGs/Spain.csv')"
   ]
  },
  {
   "cell_type": "code",
   "execution_count": 18,
   "metadata": {},
   "outputs": [],
   "source": [
    "# DFs\n",
    "espPop = pd.DataFrame(esp_pop)\n",
    "espGHG = pd.DataFrame(esp_ghg)"
   ]
  },
  {
   "cell_type": "code",
   "execution_count": 19,
   "metadata": {},
   "outputs": [
    {
     "name": "stdout",
     "output_type": "stream",
     "text": [
      "(30, 11)\n"
     ]
    }
   ],
   "source": [
    "# Combine & Save\n",
    "espDF = pd.concat([espPop, espGHG], axis=1)\n",
    "print(espDF.shape)\n",
    "espDF.to_csv('Resources/Spain.csv')"
   ]
  },
  {
   "cell_type": "code",
   "execution_count": 20,
   "metadata": {},
   "outputs": [],
   "source": [
    "# Switzerland\n",
    "che_pop = pd.read_csv('Population/Switzerland.csv')\n",
    "che_ghg = pd.read_csv('GHGs/Switzerland.csv')"
   ]
  },
  {
   "cell_type": "code",
   "execution_count": 21,
   "metadata": {},
   "outputs": [],
   "source": [
    "# DFs\n",
    "chePop = pd.DataFrame(che_pop)\n",
    "cheGHG = pd.DataFrame(che_ghg)"
   ]
  },
  {
   "cell_type": "code",
   "execution_count": 22,
   "metadata": {},
   "outputs": [
    {
     "name": "stdout",
     "output_type": "stream",
     "text": [
      "(30, 11)\n"
     ]
    }
   ],
   "source": [
    "# Combine & Save\n",
    "cheDF = pd.concat([chePop, cheGHG], axis=1)\n",
    "print(cheDF.shape)\n",
    "cheDF.to_csv('Resources/Switzerland.csv')"
   ]
  },
  {
   "cell_type": "code",
   "execution_count": 23,
   "metadata": {},
   "outputs": [],
   "source": [
    "# Turkey\n",
    "tur_pop = pd.read_csv('Population/Turkey.csv')\n",
    "tur_ghg = pd.read_csv('GHGs/Turkey.csv')"
   ]
  },
  {
   "cell_type": "code",
   "execution_count": 24,
   "metadata": {},
   "outputs": [],
   "source": [
    "# DFs\n",
    "turPop = pd.DataFrame(tur_pop)\n",
    "turGHG = pd.DataFrame(tur_ghg)"
   ]
  },
  {
   "cell_type": "code",
   "execution_count": 25,
   "metadata": {},
   "outputs": [
    {
     "name": "stdout",
     "output_type": "stream",
     "text": [
      "(30, 11)\n"
     ]
    }
   ],
   "source": [
    "# Combine & Save\n",
    "turDF = pd.concat([turPop, turGHG], axis=1)\n",
    "print(turDF.shape)\n",
    "turDF.to_csv('Resources/Turkey.csv')"
   ]
  },
  {
   "cell_type": "code",
   "execution_count": 26,
   "metadata": {},
   "outputs": [],
   "source": [
    "# United Kingdom\n",
    "gbr_pop = pd.read_csv('Population/United Kingdom.csv')\n",
    "gbr_ghg = pd.read_csv('GHGs/United Kingdom.csv')"
   ]
  },
  {
   "cell_type": "code",
   "execution_count": 27,
   "metadata": {},
   "outputs": [],
   "source": [
    "# DFs\n",
    "gbrPop = pd.DataFrame(gbr_pop)\n",
    "gbrGHG = pd.DataFrame(gbr_ghg)"
   ]
  },
  {
   "cell_type": "code",
   "execution_count": 28,
   "metadata": {},
   "outputs": [
    {
     "name": "stdout",
     "output_type": "stream",
     "text": [
      "(30, 11)\n"
     ]
    }
   ],
   "source": [
    "# Combine & Save\n",
    "gbrDF = pd.concat([gbrPop, gbrGHG], axis=1)\n",
    "print(gbrDF.shape)\n",
    "gbrDF.to_csv('Resources/United Kingdom.csv')"
   ]
  },
  {
   "cell_type": "code",
   "execution_count": 29,
   "metadata": {},
   "outputs": [],
   "source": [
    "# United States\n",
    "usa_pop = pd.read_csv('Population/United States.csv')\n",
    "usa_ghg = pd.read_csv('GHGs/United States.csv')"
   ]
  },
  {
   "cell_type": "code",
   "execution_count": 30,
   "metadata": {},
   "outputs": [],
   "source": [
    "# DFs\n",
    "usaPop = pd.DataFrame(usa_pop)\n",
    "usaGHG = pd.DataFrame(usa_ghg)"
   ]
  },
  {
   "cell_type": "code",
   "execution_count": 31,
   "metadata": {},
   "outputs": [
    {
     "name": "stdout",
     "output_type": "stream",
     "text": [
      "(30, 11)\n"
     ]
    }
   ],
   "source": [
    "# Combine & Save\n",
    "usaDF = pd.concat([usaPop, usaGHG], axis=1)\n",
    "print(usaDF.shape)\n",
    "usaDF.to_csv('Resources/United States.csv')"
   ]
  },
  {
   "cell_type": "code",
   "execution_count": null,
   "metadata": {},
   "outputs": [],
   "source": []
  }
 ],
 "metadata": {
  "kernelspec": {
   "display_name": "Python 3",
   "language": "python",
   "name": "python3"
  },
  "language_info": {
   "codemirror_mode": {
    "name": "ipython",
    "version": 3
   },
   "file_extension": ".py",
   "mimetype": "text/x-python",
   "name": "python",
   "nbconvert_exporter": "python",
   "pygments_lexer": "ipython3",
   "version": "3.7.9"
  }
 },
 "nbformat": 4,
 "nbformat_minor": 4
}
