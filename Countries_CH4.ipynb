{
 "cells": [
  {
   "cell_type": "code",
   "execution_count": 1,
   "metadata": {},
   "outputs": [],
   "source": [
    "# Dependencies\n",
    "import pandas as pd\n",
    "import numpy as np\n",
    "import matplotlib.pyplot as plt\n",
    "import seaborn as sns\n",
    "import os"
   ]
  },
  {
   "cell_type": "code",
   "execution_count": 2,
   "metadata": {},
   "outputs": [],
   "source": [
    "# Read Data Function\n",
    "def read_data(filename):\n",
    "    \n",
    "    # Retrieve Data\n",
    "    data = pd.read_csv(filename)\n",
    "    \n",
    "    # Drop Columns\n",
    "    clean = data.drop(columns=['Unnamed: 0', 'Unnamed: 0.1', 'Date'])\n",
    "    \n",
    "    # Drop Last Row\n",
    "    clean = clean[:-1].copy()\n",
    "    \n",
    "    # Drop missing data\n",
    "    clean = clean.dropna()\n",
    "    \n",
    "    # Rename Columns\n",
    "    cols = ['Year', 'Population', 'CH4', 'CO2', 'GHG', 'HFC', 'N2O', 'PFC', 'SF6']\n",
    "    clean.columns = cols\n",
    "    \n",
    "    return clean"
   ]
  },
  {
   "cell_type": "code",
   "execution_count": 3,
   "metadata": {},
   "outputs": [],
   "source": [
    "# Run Model (Machine Learning)\n",
    "def run_model(clean):\n",
    "    \n",
    "    # Create Lag Column\n",
    "    clean['nextCH4'] = clean.shift(1)['CH4']\n",
    "    \n",
    "    # Set Training and Testing Split\n",
    "    training = clean.loc[(clean['Year']<2010) & (clean['Year']>1990)]\n",
    "    testing = clean.loc[clean['Year']>=2010]\n",
    "\n",
    "    # Set Variables\n",
    "    X_train = training[['Population', 'CH4', 'CO2', 'GHG', 'HFC', 'N2O', 'PFC', 'SF6']]\n",
    "    y_train = training['nextCH4']\n",
    "    X_test = testing[['Population', 'CH4', 'CO2', 'GHG', 'HFC', 'N2O', 'PFC', 'SF6']]\n",
    "    y_test = testing['nextCH4']\n",
    "    X = clean[['Population', 'CH4', 'CO2', 'GHG', 'HFC', 'N2O', 'PFC', 'SF6']]\n",
    "    y = clean['nextCHC4']\n",
    "\n",
    "    # Linear Regression Model\n",
    "    from sklearn.linear_model import LinearRegression\n",
    "    \n",
    "    model = LinearRegression()\n",
    "\n",
    "    # Train Modele\n",
    "    model.fit(X_train, y_train)\n",
    "\n",
    "    # Score for 1991-2009\n",
    "    print(f\"Train Score: {model.score(X_train, y_train)}\")\n",
    "\n",
    "    # Score for 2010+\n",
    "    print(f\"Test Score: {model.score(X_test, y_test)}\")\n",
    "\n",
    "    # Predictions vs Actual\n",
    "    predictions = model.predict(X)\n",
    "    print(f\"Actual: {y[1]}\")\n",
    "    print(f\"Predicted: {predictions[1]}\")\n",
    "    print(f\"Error: {predictions[1]-y[1]}\")\n",
    "\n",
    "    return pd.DataFrame({\"Year\": clean[\"Year\"],\n",
    "                         \"Predicted\": predictions,\n",
    "                         \"Actual\": y,\n",
    "                         \"Error\": predictions - y,\n",
    "                         \"Country\": country})"
   ]
  },
  {
   "cell_type": "code",
   "execution_count": 4,
   "metadata": {},
   "outputs": [
    {
     "name": "stdout",
     "output_type": "stream",
     "text": [
      "\n",
      "Australia\n",
      "Error\n",
      "\n",
      "Canada\n",
      "Error\n",
      "\n",
      "Japan\n",
      "Error\n",
      "\n",
      "New Zealand\n",
      "Error\n",
      "\n",
      "Russia\n",
      "Error\n",
      "\n",
      "Spain\n",
      "Error\n",
      "\n",
      "Switzerland\n",
      "Error\n",
      "\n",
      "Turkey\n",
      "Error\n",
      "\n",
      "United States\n",
      "Error\n"
     ]
    }
   ],
   "source": [
    "final = pd.DataFrame(columns = [\"Year\", \"Predicted\", \"Actual\", \"Error\", \"Country\"])\n",
    "\n",
    "for filename in os.listdir(\"Cleaning/Combined\"):\n",
    "    if \".csv\" in filename:\n",
    "        \n",
    "        print()\n",
    "        \n",
    "        country = filename.replace('.csv', '')\n",
    "        \n",
    "        print(country)\n",
    "        \n",
    "        clean = read_data(\"Cleaning/Combined/\" + filename)\n",
    "        \n",
    "        try:\n",
    "            output = run_model(clean)\n",
    "            final = final.append(output)\n",
    "        \n",
    "        except:\n",
    "            print(\"Error\")"
   ]
  },
  {
   "cell_type": "code",
   "execution_count": 5,
   "metadata": {},
   "outputs": [],
   "source": [
    "# Export \n",
    "#final.to_csv('Resources/ML_CH4.csv')"
   ]
  },
  {
   "cell_type": "code",
   "execution_count": 12,
   "metadata": {},
   "outputs": [
    {
     "ename": "NameError",
     "evalue": "name 'LinearRegression' is not defined",
     "output_type": "error",
     "traceback": [
      "\u001b[1;31m---------------------------------------------------------------------------\u001b[0m",
      "\u001b[1;31mNameError\u001b[0m                                 Traceback (most recent call last)",
      "\u001b[1;32m<ipython-input-12-28d4d21f64c7>\u001b[0m in \u001b[0;36m<module>\u001b[1;34m\u001b[0m\n\u001b[1;32m----> 1\u001b[1;33m \u001b[0mmodel\u001b[0m \u001b[1;33m=\u001b[0m \u001b[0mLinearRegression\u001b[0m\u001b[1;33m(\u001b[0m\u001b[1;33m)\u001b[0m\u001b[1;33m\u001b[0m\u001b[1;33m\u001b[0m\u001b[0m\n\u001b[0m",
      "\u001b[1;31mNameError\u001b[0m: name 'LinearRegression' is not defined"
     ]
    }
   ],
   "source": [
    "model = LinearRegression()"
   ]
  },
  {
   "cell_type": "code",
   "execution_count": null,
   "metadata": {},
   "outputs": [],
   "source": []
  }
 ],
 "metadata": {
  "kernelspec": {
   "display_name": "Python 3",
   "language": "python",
   "name": "python3"
  },
  "language_info": {
   "codemirror_mode": {
    "name": "ipython",
    "version": 3
   },
   "file_extension": ".py",
   "mimetype": "text/x-python",
   "name": "python",
   "nbconvert_exporter": "python",
   "pygments_lexer": "ipython3",
   "version": "3.7.9"
  }
 },
 "nbformat": 4,
 "nbformat_minor": 4
}
